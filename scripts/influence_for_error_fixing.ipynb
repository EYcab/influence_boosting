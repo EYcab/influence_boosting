{
 "cells": [
  {
   "cell_type": "markdown",
   "metadata": {},
   "source": [
    "# Description\n",
    "This notebook conducts an experiment based on the targeted harmful object removal experiment from the paper (Section 4.5, B). The goal of the experiment is to check whether Influence Functions for GBDT provides a reliable way of \"targeting\" a particular difficult test object $\\mathbf{x_{test}}$ and identifying training objects $\\mathbf{x_{train}}$ \"harmul\" specifically for the test object at hand.\n",
    "\n",
    "The plan of the experiment is as follows:\n",
    "- Read train/test data, introduce noise into the train set\n",
    "- Calculate two \"scores\" prioritizing points to remove:\n",
    "    - **LeafInfluence**: Derivative of the Logloss on $\\mathbf{x_{test}}$ w.r.t. the weight of $\\mathbf{x_{train}}$: $\\frac{\\partial L(y_{test}, F(x_{test}, \\mathbf{w})}{\\partial w_{\\mathbf{x_{train}}}}$\n",
    "    - **Detector**: Prediction of the model (trained on noisy data) w.r.t. to the opposite class. This is a noise detection method that is unable to target specific test points.\n",
    "- Iteratively remove training points from the train set and measure how the Logloss changes on $\\mathbf{x_{test}}$."
   ]
  },
  {
   "cell_type": "markdown",
   "metadata": {},
   "source": [
    "# Imports"
   ]
  },
  {
   "cell_type": "code",
   "execution_count": 1,
   "metadata": {
    "collapsed": true
   },
   "outputs": [],
   "source": [
    "import sys\n",
    "sys.path.insert(0, '../')\n",
    "sys.path.insert(0, '../influence_boosting')\n",
    "\n",
    "import os\n",
    "import pickle\n",
    "import numpy as np\n",
    "import matplotlib.pyplot as plt\n",
    "%matplotlib inline\n",
    "from sklearn.metrics import log_loss\n",
    "from tqdm import tqdm, tqdm_notebook\n",
    "from copy import deepcopy\n",
    "from catboost import CatBoostClassifier\n",
    "from ipywidgets import IntProgress\n",
    "\n",
    "from data.adult import read_train_documents_and_one_hot_targets\n",
    "from util import read_json_params, export_catboost_to_json\n",
    "from influence_boosting.influence.leaf_influence import CBLeafInfluenceEnsemble"
   ]
  },
  {
   "cell_type": "markdown",
   "metadata": {
    "collapsed": true
   },
   "source": [
    "# Reading and preparing data\n",
    "First, we read our train and test datasets:"
   ]
  },
  {
   "cell_type": "code",
   "execution_count": 2,
   "metadata": {
    "collapsed": true
   },
   "outputs": [],
   "source": [
    "train_data, train_targets = read_train_documents_and_one_hot_targets('../data/adult/train_data_catboost_format.tsv')\n",
    "train_targets = np.argmax(train_targets, axis=1)\n",
    "test_data, test_targets = read_train_documents_and_one_hot_targets('../data/adult/test_data_catboost_format.tsv')\n",
    "test_targets = np.argmax(test_targets, axis=1)"
   ]
  },
  {
   "cell_type": "markdown",
   "metadata": {},
   "source": [
    "We then inject random noise into training labels:"
   ]
  },
  {
   "cell_type": "code",
   "execution_count": 3,
   "metadata": {
    "collapsed": true
   },
   "outputs": [],
   "source": [
    "def make_nonuniform_noisy_sample(targets, flip_frac, p=None, seed=10):\n",
    "    \"\"\"\n",
    "    Choose int(len(targets) * flip_frac) points for flipping. Probability of flipping is proportional to p.\n",
    "    \"\"\"\n",
    "    if seed is not None:\n",
    "        np.random.seed(seed)\n",
    "    if p is None:\n",
    "        p = np.ones(len(targets))\n",
    "    p /= np.sum(p)\n",
    "    perturbed_idxs = np.random.choice(len(targets), size=int(len(targets) * flip_frac), replace=False, p=p)\n",
    "    result = deepcopy(targets)\n",
    "    perturbed_idxs_mask = np.zeros_like(targets)\n",
    "    for perturbed_i in perturbed_idxs:\n",
    "        result[perturbed_i] = 1 - result[perturbed_i]\n",
    "        perturbed_idxs_mask[perturbed_i] = 1\n",
    "    return result, perturbed_idxs_mask\n",
    "\n",
    "np.random.seed(20)\n",
    "frac = 4000 / float(len(train_targets))\n",
    "train_targets_polluted, polluted_gt = make_nonuniform_noisy_sample(train_targets, frac, seed=None)"
   ]
  },
  {
   "cell_type": "markdown",
   "metadata": {},
   "source": [
    "# Obtain scores\n",
    "We now fix a particular test index that we would like to target and calculate the \"scores\" of the train points w.r.t. this test point."
   ]
  },
  {
   "cell_type": "code",
   "execution_count": 4,
   "metadata": {
    "collapsed": true
   },
   "outputs": [],
   "source": [
    "test_idx = 899"
   ]
  },
  {
   "cell_type": "markdown",
   "metadata": {},
   "source": [
    "Temporary training directory:"
   ]
  },
  {
   "cell_type": "code",
   "execution_count": 5,
   "metadata": {
    "collapsed": true
   },
   "outputs": [],
   "source": [
    "train_dir = '../data/adult/catboost_tmp_dir'\n",
    "if not os.path.exists(train_dir):\n",
    "    os.mkdir(train_dir)"
   ]
  },
  {
   "cell_type": "markdown",
   "metadata": {},
   "source": [
    "Read CatBoost parameters and train the model on the noisy data:"
   ]
  },
  {
   "cell_type": "code",
   "execution_count": 6,
   "metadata": {},
   "outputs": [
    {
     "data": {
      "text/plain": [
       "<catboost.core._CatBoostBase at 0x7ff06cc591d0>"
      ]
     },
     "execution_count": 6,
     "metadata": {},
     "output_type": "execute_result"
    }
   ],
   "source": [
    "catboost_params = read_json_params('../data/adult/catboost_params.json')\n",
    "catboost_params['train_dir'] = train_dir\n",
    "catboost_params['random_seed'] = 10\n",
    "cbc = CatBoostClassifier(**catboost_params)\n",
    "cbc.fit(train_data, train_targets_polluted)"
   ]
  },
  {
   "cell_type": "markdown",
   "metadata": {},
   "source": [
    "Save the model, export it to JSON and create a ``CBLeafInfluenceEnsemble`` using this JSON. We will use the smallest Update Set (see Section 3.1.2 of the paper) to save time."
   ]
  },
  {
   "cell_type": "code",
   "execution_count": 7,
   "metadata": {
    "collapsed": true
   },
   "outputs": [],
   "source": [
    "cbc.save_model(train_dir + '/model.bin')\n",
    "export_catboost_to_json(train_dir + '/model.bin', train_dir + '/model.json')\n",
    "leafinfluence = CBLeafInfluenceEnsemble(train_dir + '/model.json', train_data, train_targets_polluted,\n",
    "                                        leaf_method=catboost_params['leaf_estimation_method'],\n",
    "                                        learning_rate=catboost_params['learning_rate'],\n",
    "                                        update_set='SinglePoint')"
   ]
  },
  {
   "cell_type": "markdown",
   "metadata": {},
   "source": [
    "Calculate loss derivatives (**LeafInfluence**):"
   ]
  },
  {
   "cell_type": "code",
   "execution_count": null,
   "metadata": {},
   "outputs": [],
   "source": [
    "influence_scores = []\n",
    "buf = deepcopy(leafinfluence)\n",
    "for i in tqdm_notebook(xrange(len(train_data))):\n",
    "    leafinfluence.fit(removed_point_idx=i, destination_model=buf)\n",
    "    influence_scores.append(buf.loss_derivative(test_data[[test_idx]], test_targets[[test_idx]])[0])\n",
    "influence_scores = np.array(influence_scores)"
   ]
  },
  {
   "cell_type": "markdown",
   "metadata": {},
   "source": [
    "Calculate **Detector** scores:"
   ]
  },
  {
   "cell_type": "code",
   "execution_count": 9,
   "metadata": {
    "collapsed": true
   },
   "outputs": [],
   "source": [
    "detector_scores = cbc.predict_proba(train_data)[xrange(len(train_data)), 1 - train_targets_polluted]"
   ]
  },
  {
   "cell_type": "markdown",
   "metadata": {},
   "source": [
    "# Measure loss reductions\n",
    "We proceed to iteratively remove train points according to the obtained scores and measure how this affects the losses on ``test_idx``.\n",
    "\n",
    "Utility functions:"
   ]
  },
  {
   "cell_type": "code",
   "execution_count": 10,
   "metadata": {
    "collapsed": true
   },
   "outputs": [],
   "source": [
    "def catboost_fit_predict(train_documents, train_targets, test_documents, prediction_type='RawFormulaVal',\n",
    "                         **catboost_params):\n",
    "    if 'gpu_ram_part' in catboost_params:\n",
    "        gpu_ram_part = catboost_params.pop('gpu_ram_part')\n",
    "    else:\n",
    "        gpu_ram_part = None\n",
    "    cbc = CatBoostClassifier(**catboost_params)\n",
    "    if gpu_ram_part is not None:\n",
    "        cbc.set_params(gpu_ram_part=gpu_ram_part)\n",
    "    cbc.fit(train_documents, train_targets)\n",
    "    return cbc.predict(test_documents, prediction_type)\n",
    "\n",
    "def prediction_fidelity_after_iterative_fixing(train_documents, train_targets, test_documents, test_targets, test_idx,\n",
    "                                               scores, batch_size, max_steps, **catboost_params):\n",
    "    prediction_original = catboost_fit_predict(train_documents, train_targets, test_documents,\n",
    "                                               'Probability', **catboost_params)\n",
    "    loss_on_test_idx_original = log_loss(y_true=test_targets[[test_idx]], y_pred=prediction_original[[test_idx]],\n",
    "                                        labels=[0, 1])\n",
    "    \n",
    "    losses_on_test_idx = []\n",
    "    batch_num = 0\n",
    "    harmful_idxs_queue = np.argsort(-scores)\n",
    "    idxs_to_remove = []\n",
    "    pbar = tqdm_notebook(total=max_steps + 1)\n",
    "    while len(train_documents) - len(idxs_to_remove) > batch_size and batch_num < max_steps + 1:\n",
    "        first_new_removed_idx = (batch_num - 1) * batch_size\n",
    "        idxs_to_remove_batch = harmful_idxs_queue[first_new_removed_idx:first_new_removed_idx + batch_size]\n",
    "        idxs_to_remove += list(idxs_to_remove_batch)\n",
    "        train_documents_reduced = np.delete(train_documents, idxs_to_remove, axis=0)\n",
    "        train_targets_reduced = np.delete(train_targets, idxs_to_remove, axis=0)\n",
    "        prediction = catboost_fit_predict(train_documents_reduced, train_targets_reduced, test_documents,\n",
    "                                          'Probability', **catboost_params)\n",
    "        loss_on_test_idx = log_loss(y_true=test_targets[[test_idx]], y_pred=prediction[[test_idx]], labels=[0, 1])\n",
    "        losses_on_test_idx.append((loss_on_test_idx - loss_on_test_idx_original) / loss_on_test_idx_original)\n",
    "        batch_num += 1\n",
    "        pbar.update(1)\n",
    "    pbar.close()\n",
    "    return losses_on_test_idx"
   ]
  },
  {
   "cell_type": "markdown",
   "metadata": {},
   "source": [
    "Run calculations:"
   ]
  },
  {
   "cell_type": "code",
   "execution_count": null,
   "metadata": {},
   "outputs": [],
   "source": [
    "losses_on_test_idx_for_scores = {}\n",
    "losses_on_test_idx_for_scores['LeafInfluence'] = prediction_fidelity_after_iterative_fixing(\n",
    "    train_data, train_targets_polluted, test_data, test_targets, test_idx, influence_scores, 50, 80, **catboost_params\n",
    ")\n",
    "losses_on_test_idx_for_scores['Detector'] = prediction_fidelity_after_iterative_fixing(\n",
    "    train_data, train_targets_polluted, test_data, test_targets, test_idx, detector_scores, 50, 80, **catboost_params\n",
    ")"
   ]
  },
  {
   "cell_type": "markdown",
   "metadata": {},
   "source": [
    "Plot the results:"
   ]
  },
  {
   "cell_type": "code",
   "execution_count": 12,
   "metadata": {},
   "outputs": [
    {
     "data": {
      "image/png": "[encoded data removed]",
      "text/plain": [
       "<matplotlib.figure.Figure at 0x7ff038d7cf50>"
      ]
     },
     "metadata": {},
     "output_type": "display_data"
    }
   ],
   "source": [
    "for name in losses_on_test_idx_for_scores:\n",
    "    plt.plot(losses_on_test_idx_for_scores[name], label=name)\n",
    "plt.xlabel('Num batches')\n",
    "plt.ylabel('Relative logloss change')\n",
    "plt.legend()\n",
    "plt.show()"
   ]
  },
  {
   "cell_type": "markdown",
   "metadata": {},
   "source": [
    "Although, as demonstrated in Section 4.5, A, **Detector** is a slightly stronger noise detector \"on average\", this plot demonstrates that **LeafInfluence** greatly outperforms it in targeting training objects harmful for the specific $\\mathbf{x_{test}}$."
   ]
  }
 ],
 "metadata": {
  "kernelspec": {
   "display_name": "influence_boosting",
   "language": "python",
   "name": "influence_boosting"
  },
  "language_info": {
   "codemirror_mode": {
    "name": "ipython",
    "version": 2
   },
   "file_extension": ".py",
   "mimetype": "text/x-python",
   "name": "python",
   "nbconvert_exporter": "python",
   "pygments_lexer": "ipython2",
   "version": "2.7.14"
  }
 },
 "nbformat": 4,
 "nbformat_minor": 1
}
